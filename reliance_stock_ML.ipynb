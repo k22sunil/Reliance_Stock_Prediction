{
  "nbformat": 4,
  "nbformat_minor": 0,
  "metadata": {
    "colab": {
      "provenance": [],
      "authorship_tag": "ABX9TyNH0lRaS1ZBO5sL0wj9whcw",
      "include_colab_link": true
    },
    "kernelspec": {
      "name": "python3",
      "display_name": "Python 3"
    },
    "language_info": {
      "name": "python"
    }
  },
  "cells": [
    {
      "cell_type": "markdown",
      "metadata": {
        "id": "view-in-github",
        "colab_type": "text"
      },
      "source": [
        "<a href=\"https://colab.research.google.com/github/k22sunil/Reliance_Stock_Prediction/blob/main/reliance_stock_ML.ipynb\" target=\"_parent\"><img src=\"https://colab.research.google.com/assets/colab-badge.svg\" alt=\"Open In Colab\"/></a>"
      ]
    },
    {
      "cell_type": "markdown",
      "source": [
        "##Relaince stock machine learning realtime##"
      ],
      "metadata": {
        "id": "owNjVZ-083Kn"
      }
    },
    {
      "cell_type": "code",
      "source": [
        "import yfinance as yf\n",
        "import numpy as np\n",
        "from sklearn.model_selection import train_test_split\n",
        "from sklearn.preprocessing import StandardScaler\n",
        "from sklearn.svm import SVR\n",
        "from sklearn.neighbors import KNeighborsRegressor\n",
        "from sklearn.ensemble import RandomForestRegressor\n",
        "from sklearn.metrics import mean_squared_error\n",
        "from tensorflow.keras.models import Sequential\n",
        "from tensorflow.keras.layers import Dense, LSTM, GRU\n",
        "from datetime import datetime\n",
        "\n",
        "# Function to fetch data\n",
        "def fetch_stock_data(ticker_symbol, start_date=\"2020-01-01\"):\n",
        "    today = datetime.today().strftime('%Y-%m-%d')\n",
        "    data = yf.download(ticker_symbol, start=start_date, end=today)\n",
        "    data['Target'] = data['Close'].shift(-1)  # Predict next day's closing price\n",
        "    return data.dropna()\n",
        "\n",
        "# Function to preprocess data\n",
        "def preprocess_data(data):\n",
        "    X = data[['Open', 'High', 'Low', 'Close', 'Volume']].values\n",
        "    y = data['Target'].values\n",
        "    X_train, X_test, y_train, y_test = train_test_split(X, y, test_size=0.2, random_state=42)\n",
        "    scaler = StandardScaler()\n",
        "    X_train = scaler.fit_transform(X_train)\n",
        "    X_test = scaler.transform(X_test)\n",
        "    return X_train, X_test, y_train, y_test\n",
        "\n",
        "# Define models\n",
        "def evaluate_models(X_train, X_test, y_train, y_test):\n",
        "    results = {}\n",
        "\n",
        "    # SVR\n",
        "    svr = SVR(kernel='rbf')\n",
        "    svr.fit(X_train, y_train)\n",
        "    results['SVR'] = mean_squared_error(y_test, svr.predict(X_test))\n",
        "\n",
        "    # Random Forest\n",
        "    rf = RandomForestRegressor(n_estimators=100, random_state=42)\n",
        "    rf.fit(X_train, y_train)\n",
        "    results['Random Forest'] = mean_squared_error(y_test, rf.predict(X_test))\n",
        "\n",
        "    # KNN\n",
        "    knn = KNeighborsRegressor(n_neighbors=5)\n",
        "    knn.fit(X_train, y_train)\n",
        "    results['KNN'] = mean_squared_error(y_test, knn.predict(X_test))\n",
        "\n",
        "    # LSTM\n",
        "    X_train_lstm = X_train.reshape((X_train.shape[0], X_train.shape[1], 1))\n",
        "    X_test_lstm = X_test.reshape((X_test.shape[0], X_test.shape[1], 1))\n",
        "\n",
        "    model_lstm = Sequential([\n",
        "        LSTM(50, activation='relu', input_shape=(X_train_lstm.shape[1], X_train_lstm.shape[2])),\n",
        "        Dense(1)\n",
        "    ])\n",
        "    model_lstm.compile(optimizer='adam', loss='mse')\n",
        "    model_lstm.fit(X_train_lstm, y_train, epochs=10, batch_size=32, verbose=0)\n",
        "    results['LSTM'] = mean_squared_error(y_test, model_lstm.predict(X_test_lstm).flatten())\n",
        "\n",
        "    # GRU\n",
        "    model_gru = Sequential([\n",
        "        GRU(50, activation='relu', input_shape=(X_train_lstm.shape[1], X_train_lstm.shape[2])),\n",
        "        Dense(1)\n",
        "    ])\n",
        "    model_gru.compile(optimizer='adam', loss='mse')\n",
        "    model_gru.fit(X_train_lstm, y_train, epochs=10, batch_size=32, verbose=0)\n",
        "    results['GRU'] = mean_squared_error(y_test, model_gru.predict(X_test_lstm).flatten())\n",
        "\n",
        "    return results\n",
        "\n",
        "# Main function to run evaluation\n",
        "def run_pipeline(ticker_symbol):\n",
        "    data = fetch_stock_data(ticker_symbol)\n",
        "    X_train, X_test, y_train, y_test = preprocess_data(data)\n",
        "    results = evaluate_models(X_train, X_test, y_train, y_test)\n",
        "    best_model = min(results, key=results.get)\n",
        "    print(\"\\nModel Performances:\")\n",
        "    for model, mse in results.items():\n",
        "        print(f\"{model}: MSE = {mse:.4f}\")\n",
        "    print(f\"\\nBest Model: {best_model} with MSE = {results[best_model]:.4f}\")\n",
        "\n",
        "# Run the pipeline for RELIANCE.NS\n",
        "run_pipeline(\"RELIANCE.NS\")\n"
      ],
      "metadata": {
        "colab": {
          "base_uri": "https://localhost:8080/"
        },
        "id": "gQ711MtdGCq2",
        "outputId": "5db9874c-abc4-4cfa-b2f5-fe7f6ff595dd"
      },
      "execution_count": null,
      "outputs": [
        {
          "output_type": "stream",
          "name": "stderr",
          "text": [
            "\r[*********************100%***********************]  1 of 1 completed\n",
            "/usr/local/lib/python3.10/dist-packages/keras/src/layers/rnn/rnn.py:204: UserWarning: Do not pass an `input_shape`/`input_dim` argument to a layer. When using Sequential models, prefer using an `Input(shape)` object as the first layer in the model instead.\n",
            "  super().__init__(**kwargs)\n"
          ]
        },
        {
          "output_type": "stream",
          "name": "stdout",
          "text": [
            "\u001b[1m8/8\u001b[0m \u001b[32m━━━━━━━━━━━━━━━━━━━━\u001b[0m\u001b[37m\u001b[0m \u001b[1m0s\u001b[0m 21ms/step\n"
          ]
        },
        {
          "output_type": "stream",
          "name": "stderr",
          "text": [
            "/usr/local/lib/python3.10/dist-packages/keras/src/layers/rnn/rnn.py:204: UserWarning: Do not pass an `input_shape`/`input_dim` argument to a layer. When using Sequential models, prefer using an `Input(shape)` object as the first layer in the model instead.\n",
            "  super().__init__(**kwargs)\n"
          ]
        },
        {
          "output_type": "stream",
          "name": "stdout",
          "text": [
            "\u001b[1m8/8\u001b[0m \u001b[32m━━━━━━━━━━━━━━━━━━━━\u001b[0m\u001b[37m\u001b[0m \u001b[1m0s\u001b[0m 24ms/step\n",
            "\n",
            "Model Performances:\n",
            "SVR: MSE = 22063.3661\n",
            "Random Forest: MSE = 403.6216\n",
            "KNN: MSE = 585.9130\n",
            "LSTM: MSE = 3277.1965\n",
            "GRU: MSE = 1680.5481\n",
            "\n",
            "Best Model: Random Forest with MSE = 403.6216\n"
          ]
        }
      ]
    },
    {
      "cell_type": "code",
      "source": [
        "import pickle\n",
        "\n",
        "# Save the model\n",
        "with open(\"random_forest_reliance_model.pkl\", \"wb\") as file:\n",
        "    pickle.dump(rf, file)\n",
        "\n",
        "# Load the model for predictions\n",
        "with open(\"random_forest_reliance_model.pkl\", \"rb\") as file:\n",
        "    loaded_model = pickle.load(file)\n",
        "\n",
        "# Make predictions on new data\n",
        "new_data = X_test[0].reshape(1, -1)  # Example new data\n",
        "predicted_price = loaded_model.predict(new_data)\n",
        "print(f\"Predicted Price: {predicted_price[0]}\")\n"
      ],
      "metadata": {
        "colab": {
          "base_uri": "https://localhost:8080/"
        },
        "id": "AV_8_07W33c_",
        "outputId": "1444d169-527d-4f18-944d-655d099ef518"
      },
      "execution_count": null,
      "outputs": [
        {
          "output_type": "stream",
          "name": "stdout",
          "text": [
            "Predicted Price: 1256.6349645996095\n"
          ]
        }
      ]
    },
    {
      "cell_type": "code",
      "source": [
        "import matplotlib.pyplot as plt\n",
        "\n",
        "# Get feature importance\n",
        "features = ['Open', 'High', 'Low', 'Close', 'Volume']\n",
        "importances = rf.feature_importances_\n",
        "\n",
        "# Plot feature importance\n",
        "plt.bar(features, importances)\n",
        "plt.xlabel(\"Features\")\n",
        "plt.ylabel(\"Importance\")\n",
        "plt.title(\"Feature Importance - Random Forest\")\n",
        "plt.show()\n"
      ],
      "metadata": {
        "colab": {
          "base_uri": "https://localhost:8080/",
          "height": 472
        },
        "id": "cNP390IY3t1D",
        "outputId": "7f53c4b9-99db-45cc-dea8-3e33f8e678ca"
      },
      "execution_count": null,
      "outputs": [
        {
          "output_type": "display_data",
          "data": {
            "text/plain": [
              "<Figure size 640x480 with 1 Axes>"
            ],
            "image/png": "[encoded data removed]"
          },
          "metadata": {}
        }
      ]
    },
    {
      "cell_type": "code",
      "source": [],
      "metadata": {
        "id": "FacYmoMI30VW"
      },
      "execution_count": null,
      "outputs": []
    },
    {
      "cell_type": "code",
      "source": [
        "from sklearn.model_selection import GridSearchCV\n",
        "\n",
        "# Define parameter grid\n",
        "param_grid = {\n",
        "    'n_estimators': [100, 200, 300],\n",
        "    'max_depth': [10, 20, None],\n",
        "    'min_samples_split': [2, 5, 10],\n",
        "    'min_samples_leaf': [1, 2, 4]\n",
        "}\n",
        "\n",
        "# Perform Grid Search\n",
        "grid_search = GridSearchCV(RandomForestRegressor(random_state=42), param_grid, cv=5, scoring='neg_mean_squared_error')\n",
        "grid_search.fit(X_train, y_train)\n",
        "\n",
        "print(f\"Best Parameters: {grid_search.best_params_}\")\n",
        "print(f\"Best MSE: {-grid_search.best_score_}\")\n"
      ],
      "metadata": {
        "colab": {
          "base_uri": "https://localhost:8080/"
        },
        "id": "gc4nPNVC4DCX",
        "outputId": "5eb5de3c-e2ca-4638-cc04-1b9da0d2b805"
      },
      "execution_count": null,
      "outputs": [
        {
          "output_type": "stream",
          "name": "stdout",
          "text": [
            "Best Parameters: {'max_depth': 10, 'min_samples_leaf': 4, 'min_samples_split': 2, 'n_estimators': 200}\n",
            "Best MSE: 386.5336272268931\n"
          ]
        }
      ]
    },
    {
      "cell_type": "code",
      "source": [
        "from sklearn.ensemble import RandomForestRegressor\n",
        "\n",
        "# Train the optimized Random Forest model\n",
        "optimized_rf = RandomForestRegressor(\n",
        "    n_estimators=200,\n",
        "    max_depth=10,\n",
        "    min_samples_leaf=4,\n",
        "    min_samples_split=2,\n",
        "    random_state=42\n",
        ")\n",
        "\n",
        "optimized_rf.fit(X_train, y_train)\n",
        "\n",
        "# Evaluate on the test data\n",
        "y_pred_optimized = optimized_rf.predict(X_test)\n",
        "optimized_mse = mean_squared_error(y_test, y_pred_optimized)\n",
        "\n",
        "print(f\"Optimized Random Forest MSE: {optimized_mse:.4f}\")\n"
      ],
      "metadata": {
        "colab": {
          "base_uri": "https://localhost:8080/"
        },
        "id": "COWWnM0y6Cah",
        "outputId": "692193e8-8a40-4f0c-f19f-3895481693d1"
      },
      "execution_count": null,
      "outputs": [
        {
          "output_type": "stream",
          "name": "stdout",
          "text": [
            "Optimized Random Forest MSE: 380.1645\n"
          ]
        }
      ]
    },
    {
      "cell_type": "code",
      "source": [
        "import pickle\n",
        "\n",
        "# Save the optimized model\n",
        "with open(\"optimized_random_forest_reliance.pkl\", \"wb\") as file:\n",
        "    pickle.dump(optimized_rf, file)\n",
        "\n",
        "# Load the model for future use\n",
        "with open(\"optimized_random_forest_reliance.pkl\", \"rb\") as file:\n",
        "    loaded_optimized_model = pickle.load(file)\n",
        "\n",
        "# Predict with the loaded model\n",
        "new_data = X_test[0].reshape(1, -1)\n",
        "predicted_price = loaded_optimized_model.predict(new_data)\n",
        "print(f\"Predicted Price: {predicted_price[0]}\")\n"
      ],
      "metadata": {
        "colab": {
          "base_uri": "https://localhost:8080/"
        },
        "id": "gQc3_g-D6HRE",
        "outputId": "7e53ea50-6a60-4851-fa6b-f84d9d988c1c"
      },
      "execution_count": null,
      "outputs": [
        {
          "output_type": "stream",
          "name": "stdout",
          "text": [
            "Predicted Price: 1258.4579546414416\n"
          ]
        }
      ]
    }
  ]
}